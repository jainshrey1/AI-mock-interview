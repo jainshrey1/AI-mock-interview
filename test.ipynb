{
 "cells": [
  {
   "cell_type": "code",
   "execution_count": 3,
   "metadata": {},
   "outputs": [],
   "source": [
    "import openai\n",
    "import requests\n",
    "import os\n",
    "import streamlit as st\n",
    "\n",
    "def transcribe_audio(file_path):\n",
    "    \"\"\"Transcribes the given audio file using OpenAI's Whisper API.\"\"\"\n",
    "    api_key = os.getenv(\"OPENAI_API_KEY\")  # Ensure API key is set\n",
    "\n",
    "    with open(file_path, \"rb\") as audio_file:\n",
    "        files = {\"file\": audio_file}\n",
    "        data = {\"model\": \"whisper-1\"}  # Specify the Whisper model\n",
    "        headers = {\"Authorization\": f\"Bearer {api_key}\"}\n",
    "\n",
    "        response = requests.post(\n",
    "            \"https://api.openai.com/v1/audio/transcriptions\",\n",
    "            headers=headers,\n",
    "            files=files,\n",
    "            data=data\n",
    "        )\n",
    "\n",
    "    if response.status_code == 200:\n",
    "        return response.json().get(\"text\", \"\")\n",
    "    else:\n",
    "        st.error(f\"Error transcribing audio: {response.text}\")\n",
    "        return \"\"\n"
   ]
  },
  {
   "cell_type": "code",
   "execution_count": 4,
   "metadata": {},
   "outputs": [
    {
     "data": {
      "text/plain": [
       "'ہیلو کیسے رہتے ہیں؟'"
      ]
     },
     "execution_count": 4,
     "metadata": {},
     "output_type": "execute_result"
    }
   ],
   "source": [
    "transcribe_audio(\"/Users/sachinmishra/Desktop/AI-mock-interview/Dataset/04-02-2025_00-03_msg4865094.mp3\")"
   ]
  }
 ],
 "metadata": {
  "kernelspec": {
   "display_name": "ai-mock-interview",
   "language": "python",
   "name": "python3"
  },
  "language_info": {
   "codemirror_mode": {
    "name": "ipython",
    "version": 3
   },
   "file_extension": ".py",
   "mimetype": "text/x-python",
   "name": "python",
   "nbconvert_exporter": "python",
   "pygments_lexer": "ipython3",
   "version": "3.12.7"
  }
 },
 "nbformat": 4,
 "nbformat_minor": 2
}
